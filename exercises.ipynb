{
 "cells": [
  {
   "cell_type": "code",
   "execution_count": 2,
   "metadata": {},
   "outputs": [],
   "source": [
    "import numpy as np\n",
    "from numpy import pi"
   ]
  },
  {
   "cell_type": "code",
   "execution_count": 6,
   "metadata": {},
   "outputs": [],
   "source": [
    "def compute_gaussian(x, mu, sigma2):\n",
    "    return (1/np.sqrt(2*pi*sigma2)) * np.exp(-(x-mu)**2/(2*sigma2))"
   ]
  },
  {
   "cell_type": "code",
   "execution_count": 9,
   "metadata": {},
   "outputs": [],
   "source": [
    "def compute_log_likelihood(x, pz, mu_, sigma2_):\n",
    "    nSamples = len(x)\n",
    "    nComponents = len(pz)\n",
    "    \n",
    "    log_likelihood = 0.0\n",
    "    for i in range(nSamples):\n",
    "        likelihood = 0.0\n",
    "        for k in range(nComponents):\n",
    "            likelihood += pz[k] * compute_gaussian(x[i], mu_[k], sigma2_[k])\n",
    "            \n",
    "        log_likelihood += np.log(likelihood)\n",
    "        \n",
    "    return log_likelihood"
   ]
  },
  {
   "cell_type": "code",
   "execution_count": 12,
   "metadata": {},
   "outputs": [
    {
     "data": {
      "text/plain": [
       "-24.512532330086678"
      ]
     },
     "execution_count": 12,
     "metadata": {},
     "output_type": "execute_result"
    }
   ],
   "source": [
    "x = [-1.0, 0.0, 4.0, 5.0, 6.0]\n",
    "pz = [0.5, 0.5]\n",
    "mu_ = [6., 7.]\n",
    "sigma2_ = [1.0, 4.0]\n",
    "compute_log_likelihood(x, pz, mu_, sigma2_)"
   ]
  },
  {
   "cell_type": "code",
   "execution_count": 20,
   "metadata": {},
   "outputs": [
    {
     "data": {
      "text/plain": [
       "0.24197072451914337"
      ]
     },
     "execution_count": 20,
     "metadata": {},
     "output_type": "execute_result"
    }
   ],
   "source": [
    "compute_gaussian(5, 6, 1)"
   ]
  },
  {
   "cell_type": "code",
   "execution_count": 21,
   "metadata": {},
   "outputs": [
    {
     "data": {
      "text/plain": [
       "0.12098536225957168"
      ]
     },
     "execution_count": 21,
     "metadata": {},
     "output_type": "execute_result"
    }
   ],
   "source": [
    "compute_gaussian(5, 7, 4)"
   ]
  },
  {
   "cell_type": "code",
   "execution_count": null,
   "metadata": {},
   "outputs": [],
   "source": []
  }
 ],
 "metadata": {
  "kernelspec": {
   "display_name": "Python 3",
   "language": "python",
   "name": "python3"
  },
  "language_info": {
   "codemirror_mode": {
    "name": "ipython",
    "version": 3
   },
   "file_extension": ".py",
   "mimetype": "text/x-python",
   "name": "python",
   "nbconvert_exporter": "python",
   "pygments_lexer": "ipython3",
   "version": "3.7.3"
  }
 },
 "nbformat": 4,
 "nbformat_minor": 2
}
